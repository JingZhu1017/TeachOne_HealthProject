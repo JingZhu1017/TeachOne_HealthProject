{
 "cells": [
  {
   "cell_type": "code",
   "execution_count": null,
   "metadata": {},
   "outputs": [],
   "source": [
    "###################\n",
    "\n",
    "Student Name: Jing Zhu\n",
    "Project: HAP725_W2Q2_HospitalCompareData\n",
    "    \n",
    "##################"
   ]
  },
  {
   "cell_type": "code",
   "execution_count": 7,
   "metadata": {},
   "outputs": [],
   "source": [
    "import pandas as pd"
   ]
  },
  {
   "cell_type": "markdown",
   "metadata": {},
   "source": [
    "# 1. Data Description"
   ]
  },
  {
   "cell_type": "markdown",
   "metadata": {},
   "source": [
    "In this case we mainly calculate the standard deviation for the rate across all hospitals and report the average rate the standard deviation of the rate from the the Medicare Compare site."
   ]
  },
  {
   "cell_type": "code",
   "execution_count": 9,
   "metadata": {},
   "outputs": [],
   "source": [
    "jzdata = pd.read_csv('Complications_Hospital.csv')"
   ]
  },
  {
   "cell_type": "code",
   "execution_count": 10,
   "metadata": {},
   "outputs": [
    {
     "data": {
      "text/html": [
       "<div>\n",
       "<style scoped>\n",
       "    .dataframe tbody tr th:only-of-type {\n",
       "        vertical-align: middle;\n",
       "    }\n",
       "\n",
       "    .dataframe tbody tr th {\n",
       "        vertical-align: top;\n",
       "    }\n",
       "\n",
       "    .dataframe thead th {\n",
       "        text-align: right;\n",
       "    }\n",
       "</style>\n",
       "<table border=\"1\" class=\"dataframe\">\n",
       "  <thead>\n",
       "    <tr style=\"text-align: right;\">\n",
       "      <th></th>\n",
       "      <th>Provider ID</th>\n",
       "      <th>Hospital Name</th>\n",
       "      <th>Address</th>\n",
       "      <th>City</th>\n",
       "      <th>State</th>\n",
       "      <th>ZIP Code</th>\n",
       "      <th>County Name</th>\n",
       "      <th>Phone Number</th>\n",
       "      <th>Measure Name</th>\n",
       "      <th>Measure ID</th>\n",
       "      <th>Compared to National</th>\n",
       "      <th>Denominator</th>\n",
       "      <th>Score</th>\n",
       "      <th>Lower Estimate</th>\n",
       "      <th>Higher Estimate</th>\n",
       "      <th>Footnote</th>\n",
       "      <th>Measure Start Date</th>\n",
       "      <th>Measure End Date</th>\n",
       "    </tr>\n",
       "  </thead>\n",
       "  <tbody>\n",
       "    <tr>\n",
       "      <th>0</th>\n",
       "      <td>10001</td>\n",
       "      <td>SOUTHEAST ALABAMA MEDICAL CENTER</td>\n",
       "      <td>1108 ROSS CLARK CIRCLE</td>\n",
       "      <td>DOTHAN</td>\n",
       "      <td>AL</td>\n",
       "      <td>36301</td>\n",
       "      <td>HOUSTON</td>\n",
       "      <td>3347938701</td>\n",
       "      <td>Rate of complications for hip/knee replacement...</td>\n",
       "      <td>COMP_HIP_KNEE</td>\n",
       "      <td>No Different than the National Rate</td>\n",
       "      <td>331</td>\n",
       "      <td>3.8</td>\n",
       "      <td>2.6</td>\n",
       "      <td>5.5</td>\n",
       "      <td>NaN</td>\n",
       "      <td>04/01/2012</td>\n",
       "      <td>03/31/2015</td>\n",
       "    </tr>\n",
       "    <tr>\n",
       "      <th>1</th>\n",
       "      <td>10001</td>\n",
       "      <td>SOUTHEAST ALABAMA MEDICAL CENTER</td>\n",
       "      <td>1108 ROSS CLARK CIRCLE</td>\n",
       "      <td>DOTHAN</td>\n",
       "      <td>AL</td>\n",
       "      <td>36301</td>\n",
       "      <td>HOUSTON</td>\n",
       "      <td>3347938701</td>\n",
       "      <td>Serious blood clots after surgery</td>\n",
       "      <td>PSI_12_POSTOP_PULMEMB_DVT</td>\n",
       "      <td>No Different than the National Rate</td>\n",
       "      <td>4549</td>\n",
       "      <td>3.32</td>\n",
       "      <td>1.25</td>\n",
       "      <td>5.38</td>\n",
       "      <td>NaN</td>\n",
       "      <td>07/01/2013</td>\n",
       "      <td>06/30/2015</td>\n",
       "    </tr>\n",
       "    <tr>\n",
       "      <th>2</th>\n",
       "      <td>10001</td>\n",
       "      <td>SOUTHEAST ALABAMA MEDICAL CENTER</td>\n",
       "      <td>1108 ROSS CLARK CIRCLE</td>\n",
       "      <td>DOTHAN</td>\n",
       "      <td>AL</td>\n",
       "      <td>36301</td>\n",
       "      <td>HOUSTON</td>\n",
       "      <td>3347938701</td>\n",
       "      <td>Blood stream infection after surgery</td>\n",
       "      <td>PSI_13_POST_SEPSIS</td>\n",
       "      <td>No Different than the National Rate</td>\n",
       "      <td>578</td>\n",
       "      <td>5.72</td>\n",
       "      <td>0</td>\n",
       "      <td>11.48</td>\n",
       "      <td>NaN</td>\n",
       "      <td>07/01/2013</td>\n",
       "      <td>06/30/2015</td>\n",
       "    </tr>\n",
       "    <tr>\n",
       "      <th>3</th>\n",
       "      <td>10001</td>\n",
       "      <td>SOUTHEAST ALABAMA MEDICAL CENTER</td>\n",
       "      <td>1108 ROSS CLARK CIRCLE</td>\n",
       "      <td>DOTHAN</td>\n",
       "      <td>AL</td>\n",
       "      <td>36301</td>\n",
       "      <td>HOUSTON</td>\n",
       "      <td>3347938701</td>\n",
       "      <td>A wound that splits open  after surgery on the...</td>\n",
       "      <td>PSI_14_POSTOP_DEHIS</td>\n",
       "      <td>No Different than the National Rate</td>\n",
       "      <td>445</td>\n",
       "      <td>2.72</td>\n",
       "      <td>0.65</td>\n",
       "      <td>4.79</td>\n",
       "      <td>NaN</td>\n",
       "      <td>07/01/2013</td>\n",
       "      <td>06/30/2015</td>\n",
       "    </tr>\n",
       "    <tr>\n",
       "      <th>4</th>\n",
       "      <td>10001</td>\n",
       "      <td>SOUTHEAST ALABAMA MEDICAL CENTER</td>\n",
       "      <td>1108 ROSS CLARK CIRCLE</td>\n",
       "      <td>DOTHAN</td>\n",
       "      <td>AL</td>\n",
       "      <td>36301</td>\n",
       "      <td>HOUSTON</td>\n",
       "      <td>3347938701</td>\n",
       "      <td>Accidental cuts and tears from medical treatment</td>\n",
       "      <td>PSI_15_ACC_LAC</td>\n",
       "      <td>No Different than the National Rate</td>\n",
       "      <td>16429</td>\n",
       "      <td>1.35</td>\n",
       "      <td>0.76</td>\n",
       "      <td>1.95</td>\n",
       "      <td>NaN</td>\n",
       "      <td>07/01/2013</td>\n",
       "      <td>06/30/2015</td>\n",
       "    </tr>\n",
       "  </tbody>\n",
       "</table>\n",
       "</div>"
      ],
      "text/plain": [
       "   Provider ID                     Hospital Name                 Address  \\\n",
       "0        10001  SOUTHEAST ALABAMA MEDICAL CENTER  1108 ROSS CLARK CIRCLE   \n",
       "1        10001  SOUTHEAST ALABAMA MEDICAL CENTER  1108 ROSS CLARK CIRCLE   \n",
       "2        10001  SOUTHEAST ALABAMA MEDICAL CENTER  1108 ROSS CLARK CIRCLE   \n",
       "3        10001  SOUTHEAST ALABAMA MEDICAL CENTER  1108 ROSS CLARK CIRCLE   \n",
       "4        10001  SOUTHEAST ALABAMA MEDICAL CENTER  1108 ROSS CLARK CIRCLE   \n",
       "\n",
       "     City State  ZIP Code County Name  Phone Number  \\\n",
       "0  DOTHAN    AL     36301     HOUSTON    3347938701   \n",
       "1  DOTHAN    AL     36301     HOUSTON    3347938701   \n",
       "2  DOTHAN    AL     36301     HOUSTON    3347938701   \n",
       "3  DOTHAN    AL     36301     HOUSTON    3347938701   \n",
       "4  DOTHAN    AL     36301     HOUSTON    3347938701   \n",
       "\n",
       "                                        Measure Name  \\\n",
       "0  Rate of complications for hip/knee replacement...   \n",
       "1                  Serious blood clots after surgery   \n",
       "2               Blood stream infection after surgery   \n",
       "3  A wound that splits open  after surgery on the...   \n",
       "4   Accidental cuts and tears from medical treatment   \n",
       "\n",
       "                  Measure ID                 Compared to National Denominator  \\\n",
       "0              COMP_HIP_KNEE  No Different than the National Rate         331   \n",
       "1  PSI_12_POSTOP_PULMEMB_DVT  No Different than the National Rate        4549   \n",
       "2         PSI_13_POST_SEPSIS  No Different than the National Rate         578   \n",
       "3        PSI_14_POSTOP_DEHIS  No Different than the National Rate         445   \n",
       "4             PSI_15_ACC_LAC  No Different than the National Rate       16429   \n",
       "\n",
       "  Score Lower Estimate Higher Estimate Footnote Measure Start Date  \\\n",
       "0   3.8            2.6             5.5      NaN         04/01/2012   \n",
       "1  3.32           1.25            5.38      NaN         07/01/2013   \n",
       "2  5.72              0           11.48      NaN         07/01/2013   \n",
       "3  2.72           0.65            4.79      NaN         07/01/2013   \n",
       "4  1.35           0.76            1.95      NaN         07/01/2013   \n",
       "\n",
       "  Measure End Date  \n",
       "0       03/31/2015  \n",
       "1       06/30/2015  \n",
       "2       06/30/2015  \n",
       "3       06/30/2015  \n",
       "4       06/30/2015  "
      ]
     },
     "execution_count": 10,
     "metadata": {},
     "output_type": "execute_result"
    }
   ],
   "source": [
    "jzdata.head()"
   ]
  },
  {
   "cell_type": "code",
   "execution_count": 11,
   "metadata": {},
   "outputs": [
    {
     "name": "stdout",
     "output_type": "stream",
     "text": [
      "Number of instances = 52877\n",
      "Number of attributes = 18\n"
     ]
    }
   ],
   "source": [
    "print('Number of instances = %d'% (jzdata.shape[0])) \n",
    "print('Number of attributes = %d'% (jzdata.shape[1]))"
   ]
  },
  {
   "cell_type": "markdown",
   "metadata": {},
   "source": [
    "## The data contains 18 columns and 52877 rows."
   ]
  },
  {
   "cell_type": "markdown",
   "metadata": {},
   "source": [
    "# 2. Filter Data"
   ]
  },
  {
   "cell_type": "code",
   "execution_count": 12,
   "metadata": {},
   "outputs": [],
   "source": [
    "filtered = jzdata[jzdata['Measure ID'] == 'COMP_HIP_KNEE']"
   ]
  },
  {
   "cell_type": "code",
   "execution_count": 13,
   "metadata": {},
   "outputs": [
    {
     "data": {
      "text/plain": [
       "Provider ID              int64\n",
       "Hospital Name           object\n",
       "Address                 object\n",
       "City                    object\n",
       "State                   object\n",
       "ZIP Code                 int64\n",
       "County Name             object\n",
       "Phone Number             int64\n",
       "Measure Name            object\n",
       "Measure ID              object\n",
       "Compared to National    object\n",
       "Denominator             object\n",
       "Score                   object\n",
       "Lower Estimate          object\n",
       "Higher Estimate         object\n",
       "Footnote                object\n",
       "Measure Start Date      object\n",
       "Measure End Date        object\n",
       "dtype: object"
      ]
     },
     "execution_count": 13,
     "metadata": {},
     "output_type": "execute_result"
    }
   ],
   "source": [
    "filtered.dtypes"
   ]
  },
  {
   "cell_type": "code",
   "execution_count": 14,
   "metadata": {},
   "outputs": [],
   "source": [
    "score = pd.to_numeric(filtered['Score'], errors='coerce')"
   ]
  },
  {
   "cell_type": "code",
   "execution_count": 15,
   "metadata": {},
   "outputs": [
    {
     "data": {
      "text/plain": [
       "0     3.8\n",
       "11    3.0\n",
       "22    3.8\n",
       "33    NaN\n",
       "44    NaN\n",
       "Name: Score, dtype: float64"
      ]
     },
     "execution_count": 15,
     "metadata": {},
     "output_type": "execute_result"
    }
   ],
   "source": [
    "score.head(5)"
   ]
  },
  {
   "cell_type": "markdown",
   "metadata": {},
   "source": [
    "# 3. Calculate Average Rate"
   ]
  },
  {
   "cell_type": "code",
   "execution_count": 16,
   "metadata": {},
   "outputs": [
    {
     "data": {
      "text/plain": [
       "3.0415560471976497"
      ]
     },
     "execution_count": 16,
     "metadata": {},
     "output_type": "execute_result"
    }
   ],
   "source": [
    "score.mean()"
   ]
  },
  {
   "cell_type": "code",
   "execution_count": 17,
   "metadata": {},
   "outputs": [
    {
     "data": {
      "text/plain": [
       "0.5596498066792593"
      ]
     },
     "execution_count": 17,
     "metadata": {},
     "output_type": "execute_result"
    }
   ],
   "source": [
    "score.std()"
   ]
  },
  {
   "cell_type": "code",
   "execution_count": null,
   "metadata": {},
   "outputs": [],
   "source": []
  }
 ],
 "metadata": {
  "kernelspec": {
   "display_name": "Python 3",
   "language": "python",
   "name": "python3"
  },
  "language_info": {
   "codemirror_mode": {
    "name": "ipython",
    "version": 3
   },
   "file_extension": ".py",
   "mimetype": "text/x-python",
   "name": "python",
   "nbconvert_exporter": "python",
   "pygments_lexer": "ipython3",
   "version": "3.8.3"
  }
 },
 "nbformat": 4,
 "nbformat_minor": 4
}
