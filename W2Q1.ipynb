{
 "cells": [
  {
   "cell_type": "raw",
   "metadata": {},
   "source": [
    "/////\n",
    "\n",
    "Student Name: Jing Zhu\n",
    "Project: W2Q1_ProbabilityandDistribution\n",
    "    \n",
    "/////"
   ]
  },
  {
   "cell_type": "code",
   "execution_count": 1,
   "metadata": {},
   "outputs": [],
   "source": [
    "import pandas as pd"
   ]
  },
  {
   "cell_type": "markdown",
   "metadata": {},
   "source": [
    "# 1. Data Description"
   ]
  },
  {
   "cell_type": "markdown",
   "metadata": {},
   "source": [
    "In this case we discuss to how to calculate the mix index for a hospital from classfication of its patients into Diagnostic Related Groupings (DRGs)."
   ]
  },
  {
   "cell_type": "code",
   "execution_count": 2,
   "metadata": {},
   "outputs": [],
   "source": [
    "jzdata = pd.read_excel('C:/Users/zhuji/HAP725_JZ/WK2/DataQ1.xlsx')"
   ]
  },
  {
   "cell_type": "code",
   "execution_count": 3,
   "metadata": {},
   "outputs": [
    {
     "data": {
      "text/html": [
       "<div>\n",
       "<style scoped>\n",
       "    .dataframe tbody tr th:only-of-type {\n",
       "        vertical-align: middle;\n",
       "    }\n",
       "\n",
       "    .dataframe tbody tr th {\n",
       "        vertical-align: top;\n",
       "    }\n",
       "\n",
       "    .dataframe thead th {\n",
       "        text-align: right;\n",
       "    }\n",
       "</style>\n",
       "<table border=\"1\" class=\"dataframe\">\n",
       "  <thead>\n",
       "    <tr style=\"text-align: right;\">\n",
       "      <th></th>\n",
       "      <th>Diagnostic Related Groups</th>\n",
       "      <th>Expected Length of Stay</th>\n",
       "      <th>Number in Hospital A</th>\n",
       "      <th>Number in Hospital B</th>\n",
       "    </tr>\n",
       "  </thead>\n",
       "  <tbody>\n",
       "    <tr>\n",
       "      <th>0</th>\n",
       "      <td>Heart Transplant W Mcc</td>\n",
       "      <td>28.6</td>\n",
       "      <td>700</td>\n",
       "      <td>10</td>\n",
       "    </tr>\n",
       "    <tr>\n",
       "      <th>1</th>\n",
       "      <td>Heart Transplant W/O Mcc</td>\n",
       "      <td>15.7</td>\n",
       "      <td>650</td>\n",
       "      <td>100</td>\n",
       "    </tr>\n",
       "    <tr>\n",
       "      <th>2</th>\n",
       "      <td>Ecmo Or Trach W Mv 96+ Hrs Or Pdx Exc Face</td>\n",
       "      <td>9.8</td>\n",
       "      <td>600</td>\n",
       "      <td>200</td>\n",
       "    </tr>\n",
       "    <tr>\n",
       "      <th>3</th>\n",
       "      <td>Intracranial Hemorrhage W Cc</td>\n",
       "      <td>3.9</td>\n",
       "      <td>500</td>\n",
       "      <td>300</td>\n",
       "    </tr>\n",
       "    <tr>\n",
       "      <th>4</th>\n",
       "      <td>Transient Ischemia</td>\n",
       "      <td>1.7</td>\n",
       "      <td>400</td>\n",
       "      <td>400</td>\n",
       "    </tr>\n",
       "  </tbody>\n",
       "</table>\n",
       "</div>"
      ],
      "text/plain": [
       "                    Diagnostic Related Groups  Expected Length of Stay  \\\n",
       "0                      Heart Transplant W Mcc                     28.6   \n",
       "1                    Heart Transplant W/O Mcc                     15.7   \n",
       "2  Ecmo Or Trach W Mv 96+ Hrs Or Pdx Exc Face                      9.8   \n",
       "3               Intracranial Hemorrhage W Cc                       3.9   \n",
       "4                          Transient Ischemia                      1.7   \n",
       "\n",
       "   Number in Hospital A  Number in Hospital B  \n",
       "0                   700                    10  \n",
       "1                   650                   100  \n",
       "2                   600                   200  \n",
       "3                   500                   300  \n",
       "4                   400                   400  "
      ]
     },
     "execution_count": 3,
     "metadata": {},
     "output_type": "execute_result"
    }
   ],
   "source": [
    "jzdata.head()"
   ]
  },
  {
   "cell_type": "markdown",
   "metadata": {},
   "source": [
    "## We first download the dataset using Pandas read_excel() function and see the head, it shows first 5 data points."
   ]
  },
  {
   "cell_type": "code",
   "execution_count": 4,
   "metadata": {},
   "outputs": [
    {
     "name": "stdout",
     "output_type": "stream",
     "text": [
      "Number of instances = 8\n",
      "Number of attributes = 4\n"
     ]
    }
   ],
   "source": [
    "print('Number of instances = %d'% (jzdata.shape[0])) \n",
    "print('Number of attributes = %d'% (jzdata.shape[1]))"
   ]
  },
  {
   "cell_type": "markdown",
   "metadata": {},
   "source": [
    "## The data contains 4 columns and 8 rows."
   ]
  },
  {
   "cell_type": "code",
   "execution_count": 5,
   "metadata": {},
   "outputs": [
    {
     "data": {
      "text/html": [
       "<div>\n",
       "<style scoped>\n",
       "    .dataframe tbody tr th:only-of-type {\n",
       "        vertical-align: middle;\n",
       "    }\n",
       "\n",
       "    .dataframe tbody tr th {\n",
       "        vertical-align: top;\n",
       "    }\n",
       "\n",
       "    .dataframe thead th {\n",
       "        text-align: right;\n",
       "    }\n",
       "</style>\n",
       "<table border=\"1\" class=\"dataframe\">\n",
       "  <thead>\n",
       "    <tr style=\"text-align: right;\">\n",
       "      <th></th>\n",
       "      <th>Expected Length of Stay</th>\n",
       "      <th>Number in Hospital A</th>\n",
       "      <th>Number in Hospital B</th>\n",
       "    </tr>\n",
       "  </thead>\n",
       "  <tbody>\n",
       "    <tr>\n",
       "      <th>count</th>\n",
       "      <td>8.000000</td>\n",
       "      <td>8.000000</td>\n",
       "      <td>8.000000</td>\n",
       "    </tr>\n",
       "    <tr>\n",
       "      <th>mean</th>\n",
       "      <td>8.625000</td>\n",
       "      <td>431.250000</td>\n",
       "      <td>351.250000</td>\n",
       "    </tr>\n",
       "    <tr>\n",
       "      <th>std</th>\n",
       "      <td>9.354563</td>\n",
       "      <td>218.660696</td>\n",
       "      <td>242.924886</td>\n",
       "    </tr>\n",
       "    <tr>\n",
       "      <th>min</th>\n",
       "      <td>1.700000</td>\n",
       "      <td>100.000000</td>\n",
       "      <td>10.000000</td>\n",
       "    </tr>\n",
       "    <tr>\n",
       "      <th>25%</th>\n",
       "      <td>2.950000</td>\n",
       "      <td>275.000000</td>\n",
       "      <td>175.000000</td>\n",
       "    </tr>\n",
       "    <tr>\n",
       "      <th>50%</th>\n",
       "      <td>3.700000</td>\n",
       "      <td>450.000000</td>\n",
       "      <td>350.000000</td>\n",
       "    </tr>\n",
       "    <tr>\n",
       "      <th>75%</th>\n",
       "      <td>11.275000</td>\n",
       "      <td>612.500000</td>\n",
       "      <td>525.000000</td>\n",
       "    </tr>\n",
       "    <tr>\n",
       "      <th>max</th>\n",
       "      <td>28.600000</td>\n",
       "      <td>700.000000</td>\n",
       "      <td>700.000000</td>\n",
       "    </tr>\n",
       "  </tbody>\n",
       "</table>\n",
       "</div>"
      ],
      "text/plain": [
       "       Expected Length of Stay  Number in Hospital A  Number in Hospital B\n",
       "count                 8.000000              8.000000              8.000000\n",
       "mean                  8.625000            431.250000            351.250000\n",
       "std                   9.354563            218.660696            242.924886\n",
       "min                   1.700000            100.000000             10.000000\n",
       "25%                   2.950000            275.000000            175.000000\n",
       "50%                   3.700000            450.000000            350.000000\n",
       "75%                  11.275000            612.500000            525.000000\n",
       "max                  28.600000            700.000000            700.000000"
      ]
     },
     "execution_count": 5,
     "metadata": {},
     "output_type": "execute_result"
    }
   ],
   "source": [
    "jzdata.describe()"
   ]
  },
  {
   "cell_type": "markdown",
   "metadata": {},
   "source": [
    "# 2. Data Calculate"
   ]
  },
  {
   "cell_type": "markdown",
   "metadata": {},
   "source": [
    "# Step1. calculate Probability for Hospital A and Hospital B."
   ]
  },
  {
   "cell_type": "code",
   "execution_count": 6,
   "metadata": {},
   "outputs": [],
   "source": [
    "data1 = (jzdata['Number in Hospital A']/sum(jzdata['Number in Hospital A']))\n",
    "data1 = data1.round(2)\n",
    "data2 = (jzdata['Number in Hospital B']/sum(jzdata['Number in Hospital B']))\n",
    "data2 = data2.round(2)"
   ]
  },
  {
   "cell_type": "markdown",
   "metadata": {},
   "source": [
    "# Step2. Add Columns Probablity A and B into the dataset."
   ]
  },
  {
   "cell_type": "code",
   "execution_count": 7,
   "metadata": {},
   "outputs": [
    {
     "name": "stdout",
     "output_type": "stream",
     "text": [
      "                    Diagnostic Related Groups  Expected Length of Stay  \\\n",
      "0                      Heart Transplant W Mcc                     28.6   \n",
      "1                    Heart Transplant W/O Mcc                     15.7   \n",
      "2  Ecmo Or Trach W Mv 96+ Hrs Or Pdx Exc Face                      9.8   \n",
      "3               Intracranial Hemorrhage W Cc                       3.9   \n",
      "4                          Transient Ischemia                      1.7   \n",
      "5   Traumatic Stupor & Coma, Coma >1 Hr W Mcc                      3.5   \n",
      "6                            Concussion W Mcc                      3.0   \n",
      "7                              Seizures W Mcc                      2.8   \n",
      "\n",
      "   Number in Hospital A  Number in Hospital B  Probability of Hospital A  \\\n",
      "0                   700                    10                       0.20   \n",
      "1                   650                   100                       0.19   \n",
      "2                   600                   200                       0.17   \n",
      "3                   500                   300                       0.14   \n",
      "4                   400                   400                       0.12   \n",
      "5                   300                   500                       0.09   \n",
      "6                   200                   600                       0.06   \n",
      "7                   100                   700                       0.03   \n",
      "\n",
      "   Probability of Hospital B  \n",
      "0                       0.00  \n",
      "1                       0.04  \n",
      "2                       0.07  \n",
      "3                       0.11  \n",
      "4                       0.14  \n",
      "5                       0.18  \n",
      "6                       0.21  \n",
      "7                       0.25  \n"
     ]
    }
   ],
   "source": [
    "jzdata['Probability of Hospital A']=data1\n",
    "jzdata['Probability of Hospital B']=data2\n",
    "print(jzdata)"
   ]
  },
  {
   "cell_type": "markdown",
   "metadata": {},
   "source": [
    "# Step3. Given the contribution by each DRG"
   ]
  },
  {
   "cell_type": "code",
   "execution_count": 8,
   "metadata": {},
   "outputs": [
    {
     "name": "stdout",
     "output_type": "stream",
     "text": [
      "                    Diagnostic Related Groups  Expected Length of Stay  \\\n",
      "0                      Heart Transplant W Mcc                     28.6   \n",
      "1                    Heart Transplant W/O Mcc                     15.7   \n",
      "2  Ecmo Or Trach W Mv 96+ Hrs Or Pdx Exc Face                      9.8   \n",
      "3               Intracranial Hemorrhage W Cc                       3.9   \n",
      "4                          Transient Ischemia                      1.7   \n",
      "5   Traumatic Stupor & Coma, Coma >1 Hr W Mcc                      3.5   \n",
      "6                            Concussion W Mcc                      3.0   \n",
      "7                              Seizures W Mcc                      2.8   \n",
      "\n",
      "   Number in Hospital A  Number in Hospital B  Probability of Hospital A  \\\n",
      "0                   700                    10                       0.20   \n",
      "1                   650                   100                       0.19   \n",
      "2                   600                   200                       0.17   \n",
      "3                   500                   300                       0.14   \n",
      "4                   400                   400                       0.12   \n",
      "5                   300                   500                       0.09   \n",
      "6                   200                   600                       0.06   \n",
      "7                   100                   700                       0.03   \n",
      "\n",
      "   Probability of Hospital B  Contribution of DRG to Case Mix of A  \\\n",
      "0                       0.00                                  5.72   \n",
      "1                       0.04                                  2.98   \n",
      "2                       0.07                                  1.67   \n",
      "3                       0.11                                  0.55   \n",
      "4                       0.14                                  0.20   \n",
      "5                       0.18                                  0.32   \n",
      "6                       0.21                                  0.18   \n",
      "7                       0.25                                  0.08   \n",
      "\n",
      "   Contribution of DRG to Case Mix of B  \n",
      "0                                  0.00  \n",
      "1                                  0.63  \n",
      "2                                  0.69  \n",
      "3                                  0.43  \n",
      "4                                  0.24  \n",
      "5                                  0.63  \n",
      "6                                  0.63  \n",
      "7                                  0.70  \n"
     ]
    }
   ],
   "source": [
    "##Calculating and appending contribution of DRG to case Mix of A and B\n",
    "\n",
    "jzdata['Contribution of DRG to Case Mix of A'] = (jzdata['Expected Length of Stay'] * jzdata['Probability of Hospital A'])\n",
    "jzdata['Contribution of DRG to Case Mix of A'] = jzdata['Contribution of DRG to Case Mix of A'].round(2)\n",
    "\n",
    "jzdata['Contribution of DRG to Case Mix of B'] = (jzdata['Expected Length of Stay'] * jzdata['Probability of Hospital B'])\n",
    "jzdata['Contribution of DRG to Case Mix of B'] = jzdata['Contribution of DRG to Case Mix of B'].round(2)\n",
    "\n",
    "print(jzdata)"
   ]
  },
  {
   "cell_type": "markdown",
   "metadata": {},
   "source": [
    "# Step4. Adding one more row with total of each columns"
   ]
  },
  {
   "cell_type": "code",
   "execution_count": 9,
   "metadata": {},
   "outputs": [
    {
     "name": "stdout",
     "output_type": "stream",
     "text": [
      "                    Diagnostic Related Groups Expected Length of Stay  \\\n",
      "0                      Heart Transplant W Mcc                    28.6   \n",
      "1                    Heart Transplant W/O Mcc                    15.7   \n",
      "2  Ecmo Or Trach W Mv 96+ Hrs Or Pdx Exc Face                     9.8   \n",
      "3               Intracranial Hemorrhage W Cc                      3.9   \n",
      "4                          Transient Ischemia                     1.7   \n",
      "5   Traumatic Stupor & Coma, Coma >1 Hr W Mcc                     3.5   \n",
      "6                            Concussion W Mcc                       3   \n",
      "7                              Seizures W Mcc                     2.8   \n",
      "8                                       Total                           \n",
      "\n",
      "   Number in Hospital A  Number in Hospital B  Probability of Hospital A  \\\n",
      "0                   700                    10                       0.20   \n",
      "1                   650                   100                       0.19   \n",
      "2                   600                   200                       0.17   \n",
      "3                   500                   300                       0.14   \n",
      "4                   400                   400                       0.12   \n",
      "5                   300                   500                       0.09   \n",
      "6                   200                   600                       0.06   \n",
      "7                   100                   700                       0.03   \n",
      "8                  3450                  2810                       1.00   \n",
      "\n",
      "   Probability of Hospital B  Contribution of DRG to Case Mix of A  \\\n",
      "0                       0.00                                  5.72   \n",
      "1                       0.04                                  2.98   \n",
      "2                       0.07                                  1.67   \n",
      "3                       0.11                                  0.55   \n",
      "4                       0.14                                  0.20   \n",
      "5                       0.18                                  0.32   \n",
      "6                       0.21                                  0.18   \n",
      "7                       0.25                                  0.08   \n",
      "8                       1.00                                 11.70   \n",
      "\n",
      "   Contribution of DRG to Case Mix of B  \n",
      "0                                  0.00  \n",
      "1                                  0.63  \n",
      "2                                  0.69  \n",
      "3                                  0.43  \n",
      "4                                  0.24  \n",
      "5                                  0.63  \n",
      "6                                  0.63  \n",
      "7                                  0.70  \n",
      "8                                  3.95  \n"
     ]
    }
   ],
   "source": [
    "## adding a row\n",
    "\n",
    "jzdata.loc[8] = ['Total','',\n",
    "              sum(jzdata['Number in Hospital A']),\n",
    "              sum(jzdata['Number in Hospital B']),\n",
    "              sum(jzdata['Probability of Hospital A']),\n",
    "              sum(jzdata['Probability of Hospital B']),\n",
    "              sum(jzdata['Contribution of DRG to Case Mix of A']),\n",
    "              sum(jzdata['Contribution of DRG to Case Mix of B'])]\n",
    "print(jzdata)"
   ]
  },
  {
   "cell_type": "markdown",
   "metadata": {},
   "source": [
    "# 3. Conclusion"
   ]
  },
  {
   "cell_type": "code",
   "execution_count": null,
   "metadata": {},
   "outputs": [],
   "source": [
    "# According to the result of step4, we can get \n",
    "\n",
    "Total Number in Hospital A = 3450\n",
    "Total Number in Hospital B = 2810\n",
    "Probability of Hospital A = 1\n",
    "Probability of Hospital B = 1\n",
    "Contribution of DRG to Case Mix of A = 11.70\n",
    "Contribution of DRG to Case MIx of B = 3.95\n",
    "\n",
    "## We can found the Hospital A has a higher case mix index and the larger the expected length of stay at the hospital A."
   ]
  },
  {
   "cell_type": "markdown",
   "metadata": {},
   "source": [
    "# Step5. Exporting Dataset to Excel"
   ]
  },
  {
   "cell_type": "code",
   "execution_count": null,
   "metadata": {},
   "outputs": [],
   "source": [
    "jzdata.to_excel(r'C:/Users/zhuji/HAP725_JZ/WK2/W2Q1_Solution_JZ.xlsx', index = False, header = True)"
   ]
  },
  {
   "cell_type": "code",
   "execution_count": null,
   "metadata": {},
   "outputs": [],
   "source": []
  }
 ],
 "metadata": {
  "kernelspec": {
   "display_name": "Python 3",
   "language": "python",
   "name": "python3"
  },
  "language_info": {
   "codemirror_mode": {
    "name": "ipython",
    "version": 3
   },
   "file_extension": ".py",
   "mimetype": "text/x-python",
   "name": "python",
   "nbconvert_exporter": "python",
   "pygments_lexer": "ipython3",
   "version": "3.8.3"
  }
 },
 "nbformat": 4,
 "nbformat_minor": 4
}
